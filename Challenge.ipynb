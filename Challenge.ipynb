{
  "cells": [
    {
      "cell_type": "code",
      "execution_count": 1,
      "metadata": {
        "colab": {
          "base_uri": "https://localhost:8080/",
          "height": 411
        },
        "id": "Em4BswQ5kFmZ",
        "outputId": "d6fa7fc0-0b33-462a-ac3f-ae7682709e71"
      },
      "outputs": [
        {
          "ename": "ModuleNotFoundError",
          "evalue": "No module named 'pyarrow'",
          "output_type": "error",
          "traceback": [
            "\u001b[0;31m---------------------------------------------------------------------------\u001b[0m",
            "\u001b[0;31mModuleNotFoundError\u001b[0m                       Traceback (most recent call last)",
            "Cell \u001b[0;32mIn[1], line 1\u001b[0m\n\u001b[0;32m----> 1\u001b[0m \u001b[39mimport\u001b[39;00m \u001b[39mpyarrow\u001b[39;00m\u001b[39m.\u001b[39;00m\u001b[39mparquet\u001b[39;00m \u001b[39mas\u001b[39;00m \u001b[39mpq\u001b[39;00m\n\u001b[1;32m      2\u001b[0m \u001b[39mimport\u001b[39;00m \u001b[39mpandas\u001b[39;00m \u001b[39mas\u001b[39;00m \u001b[39mpd\u001b[39;00m\n\u001b[1;32m      3\u001b[0m \u001b[39mimport\u001b[39;00m \u001b[39mrequests\u001b[39;00m\n",
            "\u001b[0;31mModuleNotFoundError\u001b[0m: No module named 'pyarrow'"
          ]
        }
      ],
      "source": [
        "import pyarrow.parquet as pq\n",
        "import pandas as pd\n",
        "import requests\n",
        "from bs4 import BeautifulSoup\n",
        "import re\n",
        "\n",
        "# Read the parquet file\n",
        "table = pq.read_table('./websites.snappy.parquet')\n",
        "df = table.to_pandas()\n",
        "\n",
        "# Extract the list of websites\n",
        "websites = df['domain'].tolist()\n",
        "\n",
        "# Iterate through each website\n",
        "for website in websites:\n",
        "\n",
        "    if not website.startswith('http'):\n",
        "        website = 'http://' + website\n",
        "\n",
        "    try:\n",
        "        # Make a request to the website\n",
        "        response = requests.get(website)\n",
        "\n",
        "        # Parse the HTML using BeautifulSoup\n",
        "        soup = BeautifulSoup(response.text, 'html.parser')\n",
        "\n",
        "        address_elements = soup.find_all(['span', 'p', 'a'])\n",
        "\n",
        "        for element in address_elements:\n",
        "            address_text = element.text\n",
        "\n",
        "            postcode = re.search(r'\\b\\d{5}\\b', address_text)\n",
        "\n",
        "            if postcode:\n",
        "                element_text = \" \".join(element.stripped_strings)\n",
        "                print(element_text)\n",
        "                break\n",
        "\n",
        "    except Exception as e:\n",
        "        print(f\"Error accessing website: {e}\")\n"
      ]
    },
    {
      "cell_type": "code",
      "execution_count": null,
      "metadata": {
        "id": "V1-QPzJ3kQaQ"
      },
      "outputs": [],
      "source": []
    }
  ],
  "metadata": {
    "colab": {
      "provenance": []
    },
    "kernelspec": {
      "display_name": "Python 3",
      "language": "python",
      "name": "python3"
    },
    "language_info": {
      "codemirror_mode": {
        "name": "ipython",
        "version": 3
      },
      "file_extension": ".py",
      "mimetype": "text/x-python",
      "name": "python",
      "nbconvert_exporter": "python",
      "pygments_lexer": "ipython3",
      "version": "3.10.9"
    },
    "vscode": {
      "interpreter": {
        "hash": "b0fa6594d8f4cbf19f97940f81e996739fb7646882a419484c72d19e05852a7e"
      }
    }
  },
  "nbformat": 4,
  "nbformat_minor": 0
}
